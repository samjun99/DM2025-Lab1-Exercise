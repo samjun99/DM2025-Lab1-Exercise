{
 "cells": [
  {
   "cell_type": "code",
   "execution_count": 1,
   "id": "38bfd3eb-c8c0-4e71-a96d-9aa356d2a8d6",
   "metadata": {},
   "outputs": [
    {
     "name": "stderr",
     "output_type": "stream",
     "text": [
      "[nltk_data] Downloading package punkt to\n",
      "[nltk_data]     C:\\Users\\samue\\AppData\\Roaming\\nltk_data...\n",
      "[nltk_data]   Package punkt is already up-to-date!\n"
     ]
    },
    {
     "name": "stdout",
     "output_type": "stream",
     "text": [
      "C:\\Users\\samue\\Onedrive\\Documents\\NTHU\\1s_fall_25-26\\Data_Mining\\Assignment\\DM2025Labs\\DM2025-Lab1-Exercise\\.venv\\Scripts\\python.exe\n",
      "3.11.0 (main, Oct 24 2022, 18:26:48) [MSC v.1933 64 bit (AMD64)]\n"
     ]
    }
   ],
   "source": [
    "# test code for environment setup\n",
    "import pandas as pd\n",
    "import numpy as np\n",
    "import nltk\n",
    "nltk.download('punkt') # download the NLTK datasets\n",
    "from sklearn.datasets import fetch_20newsgroups\n",
    "from sklearn.feature_extraction.text import CountVectorizer\n",
    "import plotly as py\n",
    "import math\n",
    "# If you get \"ModuleNotFoundError: No module named 'PAMI'\"\n",
    "# run the following in a new Jupyter cell:\n",
    "# !pip3 install PAMI\n",
    "import PAMI\n",
    "import umap\n",
    "\n",
    "categories = ['alt.atheism', 'soc.religion.christian', 'comp.graphics', 'sci.med']\n",
    "twenty_train = fetch_20newsgroups(subset='train', categories=categories, shuffle=True, random_state=42)\n",
    "\n",
    "# Sept 20, 2025\n",
    "\n",
    "# TEST necessary for when working with external scripts\n",
    "%load_ext autoreload\n",
    "%autoreload 2\n",
    "\n",
    "import sys\n",
    "print(sys.executable) # c:\\<your path to the project directory>\\.venv\\Scripts\\python.exe\n",
    "print(sys.version) #3.11.0"
   ]
  },
  {
   "cell_type": "code",
   "execution_count": 2,
   "id": "24aab3dd-b2db-480c-a351-458143738534",
   "metadata": {},
   "outputs": [],
   "source": [
    "# categories\n",
    "categories = ['alt.atheism', 'soc.religion.christian', 'comp.graphics', 'sci.med']\n",
    "\n",
    "# obtain the documents containing the categories provided\n",
    "from sklearn.datasets import fetch_20newsgroups\n",
    "\n",
    "twenty_train = fetch_20newsgroups(subset='train', categories=categories,\n",
    "                                  shuffle=True, random_state=42) "
   ]
  },
  {
   "cell_type": "markdown",
   "id": "d005d1e4-2381-4bf0-a748-cbb5de287ea3",
   "metadata": {},
   "source": [
    "# Exercise 1"
   ]
  },
  {
   "cell_type": "code",
   "execution_count": 3,
   "id": "0b1bb2f8-dc3c-4044-a88b-22ba9b553f7c",
   "metadata": {
    "scrolled": true
   },
   "outputs": [
    {
     "name": "stdout",
     "output_type": "stream",
     "text": [
      "Sample 1:\n",
      "From: sd345@city.ac.uk (Michael Collier)\n",
      "Subject: Converting images to HP LaserJet III?\n",
      "Nntp-Posting-Host: hampton\n",
      "Organization: The City University\n",
      "Lines: 14\n",
      "\n",
      "Does anyone know of a good way (standard PC application/PD utility) to\n",
      "convert tif/img/tga files into LaserJet III format.  We would also like to\n",
      "do the same, converting to HPGL (HP plotter) files.\n",
      "\n",
      "Please email any response.\n",
      "\n",
      "Is this the correct group?\n",
      "\n",
      "Thanks in advance.  Michael.\n",
      "-- \n",
      "Michael Collier (Programmer)                 The Computer Unit,\n",
      "Email: M.P.Collier@uk.ac.city                The City University,\n",
      "Tel: 071 477-8000 x3769                      London,\n",
      "Fax: 071 477-8565                            EC1V 0HB.\n",
      "\n",
      "Sample 2:\n",
      "From: ani@ms.uky.edu (Aniruddha B. Deglurkar)\n",
      "Subject: help: Splitting a trimming region along a mesh \n",
      "Organization: University Of Kentucky, Dept. of Math Sciences\n",
      "Lines: 28\n",
      "\n",
      "\n",
      "\n",
      "\tHi,\n",
      "\n",
      "\tI have a problem, I hope some of the 'gurus' can help me solve.\n",
      "\n",
      "\tBackground of the problem:\n",
      "\tI have a rectangular mesh in the uv domain, i.e  the mesh is a \n",
      "\tmapping of a 3d Bezier patch into 2d. The area in this domain\n",
      "\twhich is inside a trimming loop had to be rendered. The trimming\n",
      "\tloop is a set of 2d Bezier curve segments.\n",
      "\tFor the sake of notation: the mesh is made up of cells.\n",
      "\n",
      "\tMy problem is this :\n",
      "\tThe trimming area has to be split up into individual smaller\n",
      "\tcells bounded by the trimming curve segments. If a cell\n",
      "\tis wholly inside the area...then it is output as a whole ,\n",
      "\telse it is trivially rejected. \n",
      "\n",
      "\tDoes any body know how thiss can be done, or is there any algo. \n",
      "\tsomewhere for doing this.\n",
      "\n",
      "\tAny help would be appreciated.\n",
      "\n",
      "\tThanks, \n",
      "\tAni.\n",
      "-- \n",
      "To get irritated is human, to stay cool, divine.\n",
      "\n",
      "Sample 3:\n",
      "From: djohnson@cs.ucsd.edu (Darin Johnson)\n",
      "Subject: Re: harrassed at work, could use some prayers\n",
      "Organization: =CSE Dept., U.C. San Diego\n",
      "Lines: 63\n",
      "\n",
      "(Well, I'll email also, but this may apply to other people, so\n",
      "I'll post also.)\n",
      "\n",
      ">I've been working at this company for eight years in various\n",
      ">engineering jobs.  I'm female.  Yesterday I counted and realized that\n",
      ">on seven different occasions I've been sexually harrassed at this\n",
      ">company.\n",
      "\n",
      ">I dreaded coming back to work today.  What if my boss comes in to ask\n",
      ">me some kind of question...\n",
      "\n",
      "Your boss should be the person bring these problems to.  If he/she\n",
      "does not seem to take any action, keep going up higher and higher.\n",
      "Sexual harrassment does not need to be tolerated, and it can be an\n",
      "enormous emotional support to discuss this with someone and know that\n",
      "they are trying to do something about it.  If you feel you can not\n",
      "discuss this with your boss, perhaps your company has a personnel\n",
      "department that can work for you while preserving your privacy.  Most\n",
      "companies will want to deal with this problem because constant anxiety\n",
      "does seriously affect how effectively employees do their jobs.\n",
      "\n",
      "It is unclear from your letter if you have done this or not.  It is\n",
      "not inconceivable that management remains ignorant of employee\n",
      "problems/strife even after eight years (it's a miracle if they do\n",
      "notice).  Perhaps your manager did not bring to the attention of\n",
      "higher ups?  If the company indeed does seem to want to ignore the\n",
      "entire problem, there may be a state agency willing to fight with\n",
      "you.  (check with a lawyer, a women's resource center, etc to find out)\n",
      "\n",
      "You may also want to discuss this with your paster, priest, husband,\n",
      "etc.  That is, someone you know will not be judgemental and that is\n",
      "supportive, comforting, etc.  This will bring a lot of healing.\n",
      "\n",
      ">So I returned at 11:25, only to find that ever single\n",
      ">person had already left for lunch.  They left at 11:15 or so.  No one\n",
      ">could be bothered to call me at the other building, even though my\n",
      ">number was posted.\n",
      "\n",
      "This happens to a lot of people.  Honest.  I believe it may seem\n",
      "to be due to gross insensitivity because of the feelings you are\n",
      "going through.  People in offices tend to be more insensitive while\n",
      "working than they normally are (maybe it's the hustle or stress or...)\n",
      "I've had this happen to me a lot, often because they didn't realize\n",
      "my car was broken, etc.  Then they will come back and wonder why I\n",
      "didn't want to go (this would tend to make me stop being angry at\n",
      "being ignored and make me laugh).  Once, we went off without our\n",
      "boss, who was paying for the lunch :-)\n",
      "\n",
      ">For this\n",
      ">reason I hope good Mr. Moderator allows me this latest indulgence.\n",
      "\n",
      "Well, if you can't turn to the computer for support, what would\n",
      "we do?  (signs of the computer age :-)\n",
      "\n",
      "In closing, please don't let the hateful actions of a single person\n",
      "harm you.  They are doing it because they are still the playground\n",
      "bully and enjoy seeing the hurt they cause.  And you should not\n",
      "accept the opinions of an imbecile that you are worthless - much\n",
      "wiser people hold you in great esteem.\n",
      "-- \n",
      "Darin Johnson\n",
      "djohnson@ucsd.edu\n",
      "  - Luxury!  In MY day, we had to make do with 5 bytes of swap...\n",
      "\n"
     ]
    }
   ],
   "source": [
    "for i in range(3):\n",
    "    print(f\"Sample {i+1}:\\n{twenty_train.data[i]}\")"
   ]
  },
  {
   "cell_type": "code",
   "execution_count": 4,
   "id": "46e752bf-095b-4734-b930-666e79b816e9",
   "metadata": {},
   "outputs": [],
   "source": [
    "import pandas as pd\n",
    "\n",
    "# my functions\n",
    "import helpers.data_mining_helpers as dmh\n",
    "\n",
    "# construct dataframe from a list\n",
    "X = pd.DataFrame.from_records(dmh.format_rows(twenty_train), columns= ['text'])"
   ]
  },
  {
   "cell_type": "code",
   "execution_count": 5,
   "id": "d5316031-fd7a-47cb-ba26-48f07d6acdae",
   "metadata": {},
   "outputs": [],
   "source": [
    "X['category'] = twenty_train.target\n",
    "\n",
    "#print(twenty_train.target_names)\n",
    "X['category_name'] = X.category.apply(lambda t: dmh.format_labels(t, twenty_train))"
   ]
  },
  {
   "cell_type": "markdown",
   "id": "085522ae-4bf9-4f09-9b5e-794234889aba",
   "metadata": {},
   "source": [
    "# Exercise 2"
   ]
  },
  {
   "cell_type": "code",
   "execution_count": null,
   "id": "8bd58f1a-a800-410b-a41d-4af4c7e7961b",
   "metadata": {},
   "outputs": [],
   "source": []
  },
  {
   "cell_type": "markdown",
   "id": "f00b8a1f-78a2-4779-98cb-fdd791052789",
   "metadata": {},
   "source": [
    "# Exercise 3"
   ]
  },
  {
   "cell_type": "code",
   "execution_count": 6,
   "id": "ad69af3c-f75c-4162-b857-eff6c468e047",
   "metadata": {},
   "outputs": [
    {
     "name": "stdout",
     "output_type": "stream",
     "text": [
      "                                                  text  category category_name\n",
      "7    From: aldridge@netcom.com (Jacquelin Aldridge)...         2       sci.med\n",
      "49   From: jimj@contractor.EBay.Sun.COM (Jim Jones)...         2       sci.med\n",
      "82   From: jason@ab20.larc.nasa.gov (Jason Austin) ...         2       sci.med\n",
      "118  From: rogers@calamari.hi.com (Andrew Rogers) S...         2       sci.med\n",
      "142  From: lady@uhunix.uhcc.Hawaii.Edu (Lee Lady) S...         2       sci.med\n"
     ]
    }
   ],
   "source": [
    "Y = X[X[\"category_name\"] == \"sci.med\"]\n",
    "print(Y.iloc[::10].head(5))"
   ]
  },
  {
   "cell_type": "markdown",
   "id": "693db42c-6e00-490b-b87c-12c3d2bf438b",
   "metadata": {},
   "source": [
    "# Exercise 4"
   ]
  },
  {
   "cell_type": "code",
   "execution_count": 7,
   "id": "bfbd7e00-b2b6-4cbd-8b8c-b032b0b3f091",
   "metadata": {},
   "outputs": [
    {
     "data": {
      "text/plain": [
       "0       (The amoung of missing records is: , 0)\n",
       "1       (The amoung of missing records is: , 0)\n",
       "2       (The amoung of missing records is: , 0)\n",
       "3       (The amoung of missing records is: , 0)\n",
       "4       (The amoung of missing records is: , 0)\n",
       "                         ...                   \n",
       "2252    (The amoung of missing records is: , 0)\n",
       "2253    (The amoung of missing records is: , 0)\n",
       "2254    (The amoung of missing records is: , 0)\n",
       "2255    (The amoung of missing records is: , 0)\n",
       "2256    (The amoung of missing records is: , 0)\n",
       "Length: 2257, dtype: object"
      ]
     },
     "execution_count": 7,
     "metadata": {},
     "output_type": "execute_result"
    }
   ],
   "source": [
    "X.isnull().apply(lambda x: dmh.check_missing_values(x), axis=1)"
   ]
  },
  {
   "cell_type": "code",
   "execution_count": 8,
   "id": "5a14353a-4c2a-4451-8837-0f0b0553d0cb",
   "metadata": {},
   "outputs": [
    {
     "data": {
      "text/html": [
       "<div>\n",
       "<style scoped>\n",
       "    .dataframe tbody tr th:only-of-type {\n",
       "        vertical-align: middle;\n",
       "    }\n",
       "\n",
       "    .dataframe tbody tr th {\n",
       "        vertical-align: top;\n",
       "    }\n",
       "\n",
       "    .dataframe thead th {\n",
       "        text-align: right;\n",
       "    }\n",
       "</style>\n",
       "<table border=\"1\" class=\"dataframe\">\n",
       "  <thead>\n",
       "    <tr style=\"text-align: right;\">\n",
       "      <th></th>\n",
       "      <th>text</th>\n",
       "      <th>category</th>\n",
       "      <th>category_name</th>\n",
       "    </tr>\n",
       "  </thead>\n",
       "  <tbody>\n",
       "    <tr>\n",
       "      <th>0</th>\n",
       "      <td>The amoung of missing records is:</td>\n",
       "      <td>The amoung of missing records is:</td>\n",
       "      <td>The amoung of missing records is:</td>\n",
       "    </tr>\n",
       "    <tr>\n",
       "      <th>1</th>\n",
       "      <td>0</td>\n",
       "      <td>0</td>\n",
       "      <td>1</td>\n",
       "    </tr>\n",
       "  </tbody>\n",
       "</table>\n",
       "</div>"
      ],
      "text/plain": [
       "                                 text                            category  \\\n",
       "0  The amoung of missing records is:   The amoung of missing records is:    \n",
       "1                                   0                                   0   \n",
       "\n",
       "                        category_name  \n",
       "0  The amoung of missing records is:   \n",
       "1                                   1  "
      ]
     },
     "execution_count": 8,
     "metadata": {},
     "output_type": "execute_result"
    }
   ],
   "source": [
    "dummy_series = pd.Series([\"dummy_record\", 1], index=[\"text\", \"category\"])\n",
    "dummy_series.to_frame().T\n",
    "result_with_series = pd.concat([X, dummy_series.to_frame().T], ignore_index=True)\n",
    "len(result_with_series)\n",
    "result_with_series.isnull().apply(lambda x: dmh.check_missing_values(x))"
   ]
  },
  {
   "cell_type": "code",
   "execution_count": 9,
   "id": "2c8c60ca-fd71-4c6a-ae0d-d310c1d8844f",
   "metadata": {},
   "outputs": [],
   "source": [
    "# dummy record as dictionary format\n",
    "dummy_dict = [{'text': 'dummy_record',\n",
    "               'category': 1\n",
    "              }]\n",
    "\n",
    "X = pd.concat([X, pd.DataFrame(dummy_dict)], ignore_index=True)"
   ]
  },
  {
   "cell_type": "code",
   "execution_count": 10,
   "id": "d29db957-aa63-48ff-9a13-a87da99fcbab",
   "metadata": {},
   "outputs": [
    {
     "data": {
      "text/html": [
       "<div>\n",
       "<style scoped>\n",
       "    .dataframe tbody tr th:only-of-type {\n",
       "        vertical-align: middle;\n",
       "    }\n",
       "\n",
       "    .dataframe tbody tr th {\n",
       "        vertical-align: top;\n",
       "    }\n",
       "\n",
       "    .dataframe thead th {\n",
       "        text-align: right;\n",
       "    }\n",
       "</style>\n",
       "<table border=\"1\" class=\"dataframe\">\n",
       "  <thead>\n",
       "    <tr style=\"text-align: right;\">\n",
       "      <th></th>\n",
       "      <th>text</th>\n",
       "      <th>category</th>\n",
       "      <th>category_name</th>\n",
       "    </tr>\n",
       "  </thead>\n",
       "  <tbody>\n",
       "    <tr>\n",
       "      <th>0</th>\n",
       "      <td>The amoung of missing records is:</td>\n",
       "      <td>The amoung of missing records is:</td>\n",
       "      <td>The amoung of missing records is:</td>\n",
       "    </tr>\n",
       "    <tr>\n",
       "      <th>1</th>\n",
       "      <td>0</td>\n",
       "      <td>0</td>\n",
       "      <td>0</td>\n",
       "    </tr>\n",
       "  </tbody>\n",
       "</table>\n",
       "</div>"
      ],
      "text/plain": [
       "                                 text                            category  \\\n",
       "0  The amoung of missing records is:   The amoung of missing records is:    \n",
       "1                                   0                                   0   \n",
       "\n",
       "                        category_name  \n",
       "0  The amoung of missing records is:   \n",
       "1                                   0  "
      ]
     },
     "execution_count": 10,
     "metadata": {},
     "output_type": "execute_result"
    }
   ],
   "source": [
    "X.isnull().apply(lambda x: dmh.check_missing_values(x))\n",
    "X.dropna(inplace=True)\n",
    "X.isnull().apply(lambda x: dmh.check_missing_values(x))"
   ]
  },
  {
   "cell_type": "code",
   "execution_count": 11,
   "id": "2efa6ff2-66ec-4691-adbe-7a304d54fa54",
   "metadata": {},
   "outputs": [
    {
     "data": {
      "text/html": [
       "<div>\n",
       "<style scoped>\n",
       "    .dataframe tbody tr th:only-of-type {\n",
       "        vertical-align: middle;\n",
       "    }\n",
       "\n",
       "    .dataframe tbody tr th {\n",
       "        vertical-align: top;\n",
       "    }\n",
       "\n",
       "    .dataframe thead th {\n",
       "        text-align: right;\n",
       "    }\n",
       "</style>\n",
       "<table border=\"1\" class=\"dataframe\">\n",
       "  <thead>\n",
       "    <tr style=\"text-align: right;\">\n",
       "      <th></th>\n",
       "      <th>id</th>\n",
       "      <th>missing_example</th>\n",
       "    </tr>\n",
       "  </thead>\n",
       "  <tbody>\n",
       "    <tr>\n",
       "      <th>0</th>\n",
       "      <td>A</td>\n",
       "      <td>NaN</td>\n",
       "    </tr>\n",
       "    <tr>\n",
       "      <th>1</th>\n",
       "      <td>B</td>\n",
       "      <td>NaN</td>\n",
       "    </tr>\n",
       "    <tr>\n",
       "      <th>2</th>\n",
       "      <td>C</td>\n",
       "      <td>NaN</td>\n",
       "    </tr>\n",
       "    <tr>\n",
       "      <th>3</th>\n",
       "      <td>D</td>\n",
       "      <td>None</td>\n",
       "    </tr>\n",
       "    <tr>\n",
       "      <th>4</th>\n",
       "      <td>E</td>\n",
       "      <td>None</td>\n",
       "    </tr>\n",
       "    <tr>\n",
       "      <th>5</th>\n",
       "      <td>F</td>\n",
       "      <td></td>\n",
       "    </tr>\n",
       "  </tbody>\n",
       "</table>\n",
       "</div>"
      ],
      "text/plain": [
       "  id missing_example\n",
       "0  A             NaN\n",
       "1  B             NaN\n",
       "2  C             NaN\n",
       "3  D            None\n",
       "4  E            None\n",
       "5  F                "
      ]
     },
     "execution_count": 11,
     "metadata": {},
     "output_type": "execute_result"
    }
   ],
   "source": [
    "import numpy as np\n",
    "\n",
    "NA_dict = [{ 'id': 'A', 'missing_example': np.nan },\n",
    "           { 'id': 'B'                    },\n",
    "           { 'id': 'C', 'missing_example': 'NaN'  },\n",
    "           { 'id': 'D', 'missing_example': 'None' },\n",
    "           { 'id': 'E', 'missing_example':  None  },\n",
    "           { 'id': 'F', 'missing_example': ''     }]\n",
    "\n",
    "NA_df = pd.DataFrame(NA_dict, columns = ['id','missing_example'])\n",
    "NA_df"
   ]
  },
  {
   "cell_type": "code",
   "execution_count": 12,
   "id": "c83257f7-4b2b-4b73-8aa2-0a08c4c8bf26",
   "metadata": {},
   "outputs": [
    {
     "data": {
      "text/plain": [
       "0     True\n",
       "1     True\n",
       "2    False\n",
       "3    False\n",
       "4     True\n",
       "5    False\n",
       "Name: missing_example, dtype: bool"
      ]
     },
     "execution_count": 12,
     "metadata": {},
     "output_type": "execute_result"
    }
   ],
   "source": [
    "NA_df['missing_example'].isnull()"
   ]
  },
  {
   "cell_type": "code",
   "execution_count": 13,
   "id": "aa8a122e-de56-4ad6-bdb4-ad6f0da6dbc6",
   "metadata": {},
   "outputs": [
    {
     "data": {
      "text/plain": [
       "2257"
      ]
     },
     "execution_count": 13,
     "metadata": {},
     "output_type": "execute_result"
    }
   ],
   "source": [
    "len(X)"
   ]
  },
  {
   "cell_type": "markdown",
   "id": "2403780f-3ed8-4dc5-86cb-5fd1c356a9e1",
   "metadata": {},
   "source": [
    "# Exercise 5\n",
    "\n",
    "In this example, what we see here is a table of different kinds of what is represented by a no value is present. When doing the `isnull()` function, we see that indexes 2, 3, and 5 return False while the others are detected as null values this is because they still have a value. In index 2 and 3, it is still being treated as a string, for index 5, it is being treated as a string with length zero not a not a missing value/NaN."
   ]
  },
  {
   "cell_type": "code",
   "execution_count": 14,
   "id": "a4fa6222-64f5-4ec0-9b53-f89d707a2fe1",
   "metadata": {},
   "outputs": [],
   "source": [
    "dummy_duplicate_dict = [{\n",
    "                             'text': 'dummy record',\n",
    "                             'category': 1, \n",
    "                             'category_name': \"dummy category\"\n",
    "                        },\n",
    "                        {\n",
    "                             'text': 'dummy record',\n",
    "                             'category': 1, \n",
    "                             'category_name': \"dummy category\"\n",
    "                        }]"
   ]
  },
  {
   "cell_type": "code",
   "execution_count": 15,
   "id": "6210ff9e-e20a-451d-9c7c-1e60705af7da",
   "metadata": {},
   "outputs": [],
   "source": [
    "X = pd.concat([X, pd.DataFrame(dummy_duplicate_dict)], ignore_index=True)"
   ]
  },
  {
   "cell_type": "code",
   "execution_count": 16,
   "id": "67d5d94c-c222-4713-becb-a9be8ea276b1",
   "metadata": {},
   "outputs": [],
   "source": [
    "X.drop_duplicates(keep=False, inplace=True) # inplace applies changes directly on our dataframe"
   ]
  },
  {
   "cell_type": "code",
   "execution_count": 17,
   "id": "6f671e1e-ff79-47aa-8bd4-18bbbb565d93",
   "metadata": {},
   "outputs": [
    {
     "data": {
      "text/plain": [
       "2257"
      ]
     },
     "execution_count": 17,
     "metadata": {},
     "output_type": "execute_result"
    }
   ],
   "source": [
    "len(X)"
   ]
  },
  {
   "cell_type": "code",
   "execution_count": 18,
   "id": "c0130a01-17e1-4b1e-8130-c761db42d642",
   "metadata": {},
   "outputs": [],
   "source": [
    "X_sample = X.sample(n=1000)"
   ]
  },
  {
   "cell_type": "code",
   "execution_count": 19,
   "id": "93fa2e3e-3d8c-45e5-a1d3-f96d4aeb90ec",
   "metadata": {},
   "outputs": [
    {
     "data": {
      "text/html": [
       "<div>\n",
       "<style scoped>\n",
       "    .dataframe tbody tr th:only-of-type {\n",
       "        vertical-align: middle;\n",
       "    }\n",
       "\n",
       "    .dataframe tbody tr th {\n",
       "        vertical-align: top;\n",
       "    }\n",
       "\n",
       "    .dataframe thead th {\n",
       "        text-align: right;\n",
       "    }\n",
       "</style>\n",
       "<table border=\"1\" class=\"dataframe\">\n",
       "  <thead>\n",
       "    <tr style=\"text-align: right;\">\n",
       "      <th></th>\n",
       "      <th>text</th>\n",
       "      <th>category</th>\n",
       "      <th>category_name</th>\n",
       "    </tr>\n",
       "  </thead>\n",
       "  <tbody>\n",
       "    <tr>\n",
       "      <th>1566</th>\n",
       "      <td>From: gchin@ssf.Eng.Sun.COM (Gary Chin) Subjec...</td>\n",
       "      <td>3</td>\n",
       "      <td>soc.religion.christian</td>\n",
       "    </tr>\n",
       "    <tr>\n",
       "      <th>58</th>\n",
       "      <td>From: timmbake@mcl.ucsb.edu (Bake Timmons) Sub...</td>\n",
       "      <td>0</td>\n",
       "      <td>alt.atheism</td>\n",
       "    </tr>\n",
       "    <tr>\n",
       "      <th>844</th>\n",
       "      <td>From: doug@hparc0.aus.hp.com (Doug Parsons) Su...</td>\n",
       "      <td>1</td>\n",
       "      <td>comp.graphics</td>\n",
       "    </tr>\n",
       "    <tr>\n",
       "      <th>1499</th>\n",
       "      <td>From: ccraig@nmt.edu (Catherine Craig) Subject...</td>\n",
       "      <td>1</td>\n",
       "      <td>comp.graphics</td>\n",
       "    </tr>\n",
       "  </tbody>\n",
       "</table>\n",
       "</div>"
      ],
      "text/plain": [
       "                                                   text  category  \\\n",
       "1566  From: gchin@ssf.Eng.Sun.COM (Gary Chin) Subjec...         3   \n",
       "58    From: timmbake@mcl.ucsb.edu (Bake Timmons) Sub...         0   \n",
       "844   From: doug@hparc0.aus.hp.com (Doug Parsons) Su...         1   \n",
       "1499  From: ccraig@nmt.edu (Catherine Craig) Subject...         1   \n",
       "\n",
       "               category_name  \n",
       "1566  soc.religion.christian  \n",
       "58               alt.atheism  \n",
       "844            comp.graphics  \n",
       "1499           comp.graphics  "
      ]
     },
     "execution_count": 19,
     "metadata": {},
     "output_type": "execute_result"
    }
   ],
   "source": [
    "X_sample[0:4]"
   ]
  },
  {
   "cell_type": "markdown",
   "id": "b602a98c-a1eb-4750-aa94-7651bf728077",
   "metadata": {},
   "source": [
    "# Exercise 6\n",
    "\n",
    "As observed in the output, it is looks like records that are randomly selected from the main dataframe. This further validates as I keep on running the same code over and over again"
   ]
  },
  {
   "cell_type": "code",
   "execution_count": 20,
   "id": "fd790ac1-0d91-488f-ad2c-8dfb9fe55597",
   "metadata": {},
   "outputs": [],
   "source": [
    "import matplotlib.pyplot as plt\n",
    "%matplotlib inline"
   ]
  },
  {
   "cell_type": "code",
   "execution_count": 21,
   "id": "4568c744-5d5b-432e-81bc-335727702bbd",
   "metadata": {},
   "outputs": [
    {
     "data": {
      "text/plain": [
       "['alt.atheism', 'soc.religion.christian', 'comp.graphics', 'sci.med']"
      ]
     },
     "execution_count": 21,
     "metadata": {},
     "output_type": "execute_result"
    }
   ],
   "source": [
    "categories"
   ]
  },
  {
   "cell_type": "code",
   "execution_count": 22,
   "id": "c47a4872-bcda-4482-89bc-1de1d4830e8d",
   "metadata": {},
   "outputs": [
    {
     "name": "stdout",
     "output_type": "stream",
     "text": [
      "category_name\n",
      "soc.religion.christian    599\n",
      "sci.med                   594\n",
      "comp.graphics             584\n",
      "alt.atheism               480\n",
      "Name: count, dtype: int64\n"
     ]
    },
    {
     "data": {
      "text/plain": [
       "<Axes: title={'center': 'Category distribution'}, xlabel='category_name'>"
      ]
     },
     "execution_count": 22,
     "metadata": {},
     "output_type": "execute_result"
    },
    {
     "data": {
      "image/png": "[encoded data removed]",
      "text/plain": [
       "<Figure size 800x300 with 1 Axes>"
      ]
     },
     "metadata": {},
     "output_type": "display_data"
    }
   ],
   "source": [
    "print(X.category_name.value_counts())\n",
    "\n",
    "# plot barchart for X\n",
    "X.category_name.value_counts().plot(kind = 'bar',\n",
    "                                    title = 'Category distribution',\n",
    "                                    ylim = [0, 700],        \n",
    "                                    rot = 0, fontsize = 11, figsize = (8,3))"
   ]
  },
  {
   "cell_type": "code",
   "execution_count": 23,
   "id": "14b30426-910f-4c6e-8564-56e50aa00407",
   "metadata": {},
   "outputs": [
    {
     "name": "stdout",
     "output_type": "stream",
     "text": [
      "category_name\n",
      "comp.graphics             279\n",
      "sci.med                   255\n",
      "soc.religion.christian    252\n",
      "alt.atheism               214\n",
      "Name: count, dtype: int64\n"
     ]
    },
    {
     "data": {
      "text/plain": [
       "<Axes: title={'center': 'Category distribution'}, xlabel='category_name'>"
      ]
     },
     "execution_count": 23,
     "metadata": {},
     "output_type": "execute_result"
    },
    {
     "data": {
      "image/png": "[encoded data removed]",
      "text/plain": [
       "<Figure size 800x300 with 1 Axes>"
      ]
     },
     "metadata": {},
     "output_type": "display_data"
    }
   ],
   "source": [
    "print(X_sample.category_name.value_counts())\n",
    "\n",
    "# plot barchart for X_sample\n",
    "X_sample.category_name.value_counts().plot(kind = 'bar',\n",
    "                                           title = 'Category distribution',\n",
    "                                           ylim = [0, 300], \n",
    "                                           rot = 0, fontsize = 12, figsize = (8,3))"
   ]
  },
  {
   "cell_type": "markdown",
   "id": "e63b0510-9020-4de5-9d56-62cffa3f7cdf",
   "metadata": {},
   "source": [
    "# Exercise 7\n",
    "\n",
    "Yes, it is possible to automate the maximum value of y by just not calling the `ylim` at all, this way the matplotlib will automatically set the y limit for you. An example of the plot setup is shown below."
   ]
  },
  {
   "cell_type": "code",
   "execution_count": 24,
   "id": "70c3ae6f-6f06-455b-9bf7-ed15caa02b17",
   "metadata": {},
   "outputs": [
    {
     "name": "stdout",
     "output_type": "stream",
     "text": [
      "category_name\n",
      "comp.graphics             279\n",
      "sci.med                   255\n",
      "soc.religion.christian    252\n",
      "alt.atheism               214\n",
      "Name: count, dtype: int64\n"
     ]
    },
    {
     "data": {
      "text/plain": [
       "<Axes: title={'center': 'Category distribution'}, xlabel='category_name'>"
      ]
     },
     "execution_count": 24,
     "metadata": {},
     "output_type": "execute_result"
    },
    {
     "data": {
      "image/png": "[encoded data removed]",
      "text/plain": [
       "<Figure size 800x300 with 1 Axes>"
      ]
     },
     "metadata": {},
     "output_type": "display_data"
    }
   ],
   "source": [
    "print(X_sample.category_name.value_counts())\n",
    "\n",
    "# plot barchart for X_sample\n",
    "X_sample.category_name.value_counts().plot(kind = 'bar',\n",
    "                                           title = 'Category distribution',\n",
    "                                           rot = 0, fontsize = 12, figsize = (8,3))"
   ]
  },
  {
   "cell_type": "markdown",
   "id": "4e6b2dc4-2d35-4627-bfb0-200a455485cd",
   "metadata": {},
   "source": [
    "# Exercise 8"
   ]
  },
  {
   "cell_type": "code",
   "execution_count": 25,
   "id": "61e1a3e9-8d89-4bc9-bde4-5eed27a17cd6",
   "metadata": {},
   "outputs": [
    {
     "data": {
      "image/png": "[encoded data removed]",
      "text/plain": [
       "<Figure size 800x500 with 1 Axes>"
      ]
     },
     "metadata": {},
     "output_type": "display_data"
    }
   ],
   "source": [
    "# Get counts for both datasets\n",
    "main_counts = X.category_name.value_counts()\n",
    "sample_counts = X_sample.category_name.value_counts()\n",
    "\n",
    "# Combine into one DataFrame\n",
    "counts = pd.DataFrame({\n",
    "    \"Main Dataset\": main_counts,\n",
    "    \"Sampled Dataset\": sample_counts\n",
    "}).fillna(0).astype(int)\n",
    "\n",
    "# Plot grouped bar chart\n",
    "counts.plot(kind='bar', figsize=(8,5), rot=0, ylim=[0, 700], fontsize=12)\n",
    "\n",
    "plt.title(\"Category distribution\")\n",
    "plt.xlabel(\"Category\")\n",
    "plt.ylabel(\"Count\")\n",
    "plt.legend(title=\"Dataset\")\n",
    "plt.show()"
   ]
  },
  {
   "cell_type": "code",
   "execution_count": 26,
   "id": "d8954124-090e-4a85-92e3-7a4d6bf5684a",
   "metadata": {},
   "outputs": [
    {
     "name": "stderr",
     "output_type": "stream",
     "text": [
      "[nltk_data] Downloading package punkt to\n",
      "[nltk_data]     C:\\Users\\samue\\AppData\\Roaming\\nltk_data...\n",
      "[nltk_data]   Package punkt is already up-to-date!\n",
      "[nltk_data] Downloading package punkt_tab to\n",
      "[nltk_data]     C:\\Users\\samue\\AppData\\Roaming\\nltk_data...\n",
      "[nltk_data]   Package punkt_tab is already up-to-date!\n"
     ]
    },
    {
     "data": {
      "text/plain": [
       "True"
      ]
     },
     "execution_count": 26,
     "metadata": {},
     "output_type": "execute_result"
    }
   ],
   "source": [
    "import nltk\n",
    "nltk.download(\"punkt\")\n",
    "nltk.download(\"punkt_tab\")"
   ]
  },
  {
   "cell_type": "code",
   "execution_count": 27,
   "id": "30fbbd1a-a64f-4a2b-9e7c-e281571a797a",
   "metadata": {},
   "outputs": [],
   "source": [
    "# takes a like a minute or two to process\n",
    "\n",
    "X['unigrams'] = X['text'].apply(lambda x: dmh.tokenize_text(x))"
   ]
  },
  {
   "cell_type": "code",
   "execution_count": 28,
   "id": "1a4c3e29-38a7-4a1c-8b68-4e1790acdd7d",
   "metadata": {},
   "outputs": [
    {
     "data": {
      "text/plain": [
       "0    [From, :, sd345, @, city.ac.uk, (, Michael, Co...\n",
       "1    [From, :, ani, @, ms.uky.edu, (, Aniruddha, B....\n",
       "2    [From, :, djohnson, @, cs.ucsd.edu, (, Darin, ...\n",
       "3    [From, :, s0612596, @, let.rug.nl, (, M.M, ., ...\n",
       "Name: unigrams, dtype: object"
      ]
     },
     "execution_count": 28,
     "metadata": {},
     "output_type": "execute_result"
    }
   ],
   "source": [
    "X[0:4][\"unigrams\"]"
   ]
  },
  {
   "cell_type": "code",
   "execution_count": 29,
   "id": "88480ee1-07c5-4be4-a882-8093fe52cf81",
   "metadata": {},
   "outputs": [
    {
     "data": {
      "text/html": [
       "<div>\n",
       "<style scoped>\n",
       "    .dataframe tbody tr th:only-of-type {\n",
       "        vertical-align: middle;\n",
       "    }\n",
       "\n",
       "    .dataframe tbody tr th {\n",
       "        vertical-align: top;\n",
       "    }\n",
       "\n",
       "    .dataframe thead th {\n",
       "        text-align: right;\n",
       "    }\n",
       "</style>\n",
       "<table border=\"1\" class=\"dataframe\">\n",
       "  <thead>\n",
       "    <tr style=\"text-align: right;\">\n",
       "      <th></th>\n",
       "      <th>text</th>\n",
       "      <th>category</th>\n",
       "      <th>category_name</th>\n",
       "      <th>unigrams</th>\n",
       "    </tr>\n",
       "  </thead>\n",
       "  <tbody>\n",
       "    <tr>\n",
       "      <th>0</th>\n",
       "      <td>From: sd345@city.ac.uk (Michael Collier) Subje...</td>\n",
       "      <td>1</td>\n",
       "      <td>comp.graphics</td>\n",
       "      <td>[From, :, sd345, @, city.ac.uk, (, Michael, Co...</td>\n",
       "    </tr>\n",
       "    <tr>\n",
       "      <th>1</th>\n",
       "      <td>From: ani@ms.uky.edu (Aniruddha B. Deglurkar) ...</td>\n",
       "      <td>1</td>\n",
       "      <td>comp.graphics</td>\n",
       "      <td>[From, :, ani, @, ms.uky.edu, (, Aniruddha, B....</td>\n",
       "    </tr>\n",
       "    <tr>\n",
       "      <th>2</th>\n",
       "      <td>From: djohnson@cs.ucsd.edu (Darin Johnson) Sub...</td>\n",
       "      <td>3</td>\n",
       "      <td>soc.religion.christian</td>\n",
       "      <td>[From, :, djohnson, @, cs.ucsd.edu, (, Darin, ...</td>\n",
       "    </tr>\n",
       "    <tr>\n",
       "      <th>3</th>\n",
       "      <td>From: s0612596@let.rug.nl (M.M. Zwart) Subject...</td>\n",
       "      <td>3</td>\n",
       "      <td>soc.religion.christian</td>\n",
       "      <td>[From, :, s0612596, @, let.rug.nl, (, M.M, ., ...</td>\n",
       "    </tr>\n",
       "  </tbody>\n",
       "</table>\n",
       "</div>"
      ],
      "text/plain": [
       "                                                text  category  \\\n",
       "0  From: sd345@city.ac.uk (Michael Collier) Subje...         1   \n",
       "1  From: ani@ms.uky.edu (Aniruddha B. Deglurkar) ...         1   \n",
       "2  From: djohnson@cs.ucsd.edu (Darin Johnson) Sub...         3   \n",
       "3  From: s0612596@let.rug.nl (M.M. Zwart) Subject...         3   \n",
       "\n",
       "            category_name                                           unigrams  \n",
       "0           comp.graphics  [From, :, sd345, @, city.ac.uk, (, Michael, Co...  \n",
       "1           comp.graphics  [From, :, ani, @, ms.uky.edu, (, Aniruddha, B....  \n",
       "2  soc.religion.christian  [From, :, djohnson, @, cs.ucsd.edu, (, Darin, ...  \n",
       "3  soc.religion.christian  [From, :, s0612596, @, let.rug.nl, (, M.M, ., ...  "
      ]
     },
     "execution_count": 29,
     "metadata": {},
     "output_type": "execute_result"
    }
   ],
   "source": [
    "X[0:4]"
   ]
  },
  {
   "cell_type": "markdown",
   "id": "1559a959-09e0-4523-910d-857756dacfb4",
   "metadata": {},
   "source": [
    "# 5.3"
   ]
  },
  {
   "cell_type": "code",
   "execution_count": 30,
   "id": "7630a40f-57a2-49f9-9843-3b19bc573d6b",
   "metadata": {
    "scrolled": true
   },
   "outputs": [
    {
     "name": "stdout",
     "output_type": "stream",
     "text": [
      "  (np.int32(0), np.int32(14887))\t1\n",
      "  (np.int32(0), np.int32(29022))\t1\n",
      "  (np.int32(0), np.int32(8696))\t4\n",
      "  (np.int32(0), np.int32(4017))\t2\n",
      "  (np.int32(0), np.int32(33256))\t2\n",
      "  (np.int32(0), np.int32(21661))\t3\n",
      "  (np.int32(0), np.int32(9031))\t3\n",
      "  (np.int32(0), np.int32(31077))\t1\n",
      "  (np.int32(0), np.int32(9805))\t2\n",
      "  (np.int32(0), np.int32(17366))\t1\n",
      "  (np.int32(0), np.int32(32493))\t4\n",
      "  (np.int32(0), np.int32(16916))\t2\n",
      "  (np.int32(0), np.int32(19780))\t2\n",
      "  (np.int32(0), np.int32(17302))\t2\n",
      "  (np.int32(0), np.int32(23122))\t1\n",
      "  (np.int32(0), np.int32(25663))\t1\n",
      "  (np.int32(0), np.int32(16881))\t1\n",
      "  (np.int32(0), np.int32(16082))\t1\n",
      "  (np.int32(0), np.int32(23915))\t1\n",
      "  (np.int32(0), np.int32(32142))\t5\n",
      "  (np.int32(0), np.int32(33597))\t2\n",
      "  (np.int32(0), np.int32(20253))\t1\n",
      "  (np.int32(0), np.int32(587))\t1\n",
      "  (np.int32(0), np.int32(12051))\t1\n",
      "  (np.int32(0), np.int32(5201))\t1\n",
      "  :\t:\n",
      "  (np.int32(0), np.int32(25361))\t1\n",
      "  (np.int32(0), np.int32(25337))\t1\n",
      "  (np.int32(0), np.int32(12833))\t2\n",
      "  (np.int32(0), np.int32(5195))\t1\n",
      "  (np.int32(0), np.int32(27836))\t1\n",
      "  (np.int32(0), np.int32(18474))\t1\n",
      "  (np.int32(0), np.int32(32270))\t1\n",
      "  (np.int32(0), np.int32(9932))\t1\n",
      "  (np.int32(0), np.int32(15837))\t1\n",
      "  (np.int32(0), np.int32(32135))\t1\n",
      "  (np.int32(0), np.int32(17556))\t1\n",
      "  (np.int32(0), np.int32(4378))\t1\n",
      "  (np.int32(0), np.int32(26175))\t1\n",
      "  (np.int32(0), np.int32(9338))\t1\n",
      "  (np.int32(0), np.int32(33572))\t1\n",
      "  (np.int32(0), np.int32(31915))\t1\n",
      "  (np.int32(0), np.int32(177))\t2\n",
      "  (np.int32(0), np.int32(2326))\t2\n",
      "  (np.int32(0), np.int32(3062))\t1\n",
      "  (np.int32(0), np.int32(35416))\t1\n",
      "  (np.int32(0), np.int32(20459))\t1\n",
      "  (np.int32(0), np.int32(14085))\t1\n",
      "  (np.int32(0), np.int32(3166))\t1\n",
      "  (np.int32(0), np.int32(12541))\t1\n",
      "  (np.int32(0), np.int32(230))\t1\n"
     ]
    }
   ],
   "source": [
    "from sklearn.feature_extraction.text import CountVectorizer\n",
    "\n",
    "count_vect = CountVectorizer()\n",
    "X_counts = count_vect.fit_transform(X.text) #learn the vocabulary and return document-term matrix\n",
    "print(X_counts[0])"
   ]
  },
  {
   "cell_type": "code",
   "execution_count": 31,
   "id": "ccc43c3b-75bf-4be6-97be-33e393414820",
   "metadata": {},
   "outputs": [
    {
     "data": {
      "text/plain": [
       "['am', 'craving', 'for', 'hawaiian', 'pizza', 'right', 'now']"
      ]
     },
     "execution_count": 31,
     "metadata": {},
     "output_type": "execute_result"
    }
   ],
   "source": [
    "analyze = count_vect.build_analyzer()\n",
    "analyze(\"I am craving for a hawaiian pizza right now\")\n",
    "\n",
    "# tokenization, remove stop words (e.g i, a, the), create n-gram (or unigram)"
   ]
  },
  {
   "cell_type": "markdown",
   "id": "e877b035-239e-42d2-9e79-eca28165fe1e",
   "metadata": {},
   "source": [
    "# Exercise 9"
   ]
  },
  {
   "cell_type": "code",
   "execution_count": 32,
   "id": "cf8dda86-e3f6-43f3-9887-3d7dc978aee7",
   "metadata": {
    "scrolled": true
   },
   "outputs": [
    {
     "data": {
      "text/plain": [
       "['from',\n",
       " 'sd345',\n",
       " 'city',\n",
       " 'ac',\n",
       " 'uk',\n",
       " 'michael',\n",
       " 'collier',\n",
       " 'subject',\n",
       " 'converting',\n",
       " 'images',\n",
       " 'to',\n",
       " 'hp',\n",
       " 'laserjet',\n",
       " 'iii',\n",
       " 'nntp',\n",
       " 'posting',\n",
       " 'host',\n",
       " 'hampton',\n",
       " 'organization',\n",
       " 'the',\n",
       " 'city',\n",
       " 'university',\n",
       " 'lines',\n",
       " '14',\n",
       " 'does',\n",
       " 'anyone',\n",
       " 'know',\n",
       " 'of',\n",
       " 'good',\n",
       " 'way',\n",
       " 'standard',\n",
       " 'pc',\n",
       " 'application',\n",
       " 'pd',\n",
       " 'utility',\n",
       " 'to',\n",
       " 'convert',\n",
       " 'tif',\n",
       " 'img',\n",
       " 'tga',\n",
       " 'files',\n",
       " 'into',\n",
       " 'laserjet',\n",
       " 'iii',\n",
       " 'format',\n",
       " 'we',\n",
       " 'would',\n",
       " 'also',\n",
       " 'like',\n",
       " 'to',\n",
       " 'do',\n",
       " 'the',\n",
       " 'same',\n",
       " 'converting',\n",
       " 'to',\n",
       " 'hpgl',\n",
       " 'hp',\n",
       " 'plotter',\n",
       " 'files',\n",
       " 'please',\n",
       " 'email',\n",
       " 'any',\n",
       " 'response',\n",
       " 'is',\n",
       " 'this',\n",
       " 'the',\n",
       " 'correct',\n",
       " 'group',\n",
       " 'thanks',\n",
       " 'in',\n",
       " 'advance',\n",
       " 'michael',\n",
       " 'michael',\n",
       " 'collier',\n",
       " 'programmer',\n",
       " 'the',\n",
       " 'computer',\n",
       " 'unit',\n",
       " 'email',\n",
       " 'collier',\n",
       " 'uk',\n",
       " 'ac',\n",
       " 'city',\n",
       " 'the',\n",
       " 'city',\n",
       " 'university',\n",
       " 'tel',\n",
       " '071',\n",
       " '477',\n",
       " '8000',\n",
       " 'x3769',\n",
       " 'london',\n",
       " 'fax',\n",
       " '071',\n",
       " '477',\n",
       " '8565',\n",
       " 'ec1v',\n",
       " '0hb']"
      ]
     },
     "execution_count": 32,
     "metadata": {},
     "output_type": "execute_result"
    }
   ],
   "source": [
    "analyze(X.text[0])"
   ]
  },
  {
   "cell_type": "code",
   "execution_count": 33,
   "id": "3df7bc3c-a883-479d-a614-2d4d23fc27e8",
   "metadata": {},
   "outputs": [
    {
     "data": {
      "text/plain": [
       "(2257, 35788)"
      ]
     },
     "execution_count": 33,
     "metadata": {},
     "output_type": "execute_result"
    }
   ],
   "source": [
    "X_counts.shape"
   ]
  },
  {
   "cell_type": "code",
   "execution_count": 34,
   "id": "48935770-a4ab-44eb-b1e7-d41bad8c1f5f",
   "metadata": {},
   "outputs": [
    {
     "data": {
      "text/plain": [
       "array(['00', '000', '0000', '0000001200', '000005102000', '0001',\n",
       "       '000100255pixel', '00014', '000406', '0007'], dtype=object)"
      ]
     },
     "execution_count": 34,
     "metadata": {},
     "output_type": "execute_result"
    }
   ],
   "source": [
    "count_vect.get_feature_names_out()[0:10]"
   ]
  },
  {
   "cell_type": "code",
   "execution_count": 35,
   "id": "da3d2296-2158-41c1-b644-82e924b103c0",
   "metadata": {
    "scrolled": true
   },
   "outputs": [
    {
     "data": {
      "text/plain": [
       "array([[0, 0, 0, 0, 0, 0, 0, 0, 0, 0, 0, 0, 0, 0, 0, 0, 0, 0, 0, 0, 0, 0,\n",
       "        0, 0, 0, 0, 0, 0, 0, 0, 0, 0, 0, 0, 0, 0, 0, 0, 0, 0, 0, 0, 0, 0,\n",
       "        0, 0, 0, 0, 0, 0, 0, 0, 0, 0, 0, 0, 0, 0, 0, 0, 0, 0, 0, 0, 0, 0,\n",
       "        0, 0, 0, 0, 0, 0, 0, 0, 0, 0, 0, 0, 0, 0, 0, 0, 0, 0, 0, 0, 0, 0,\n",
       "        0, 0, 0, 0, 0, 0, 0, 0, 0, 0, 0, 0],\n",
       "       [0, 0, 0, 0, 0, 0, 0, 0, 0, 0, 0, 0, 0, 0, 0, 0, 0, 0, 0, 0, 0, 0,\n",
       "        0, 0, 0, 0, 0, 0, 0, 0, 0, 0, 0, 0, 0, 0, 0, 0, 0, 0, 0, 0, 0, 0,\n",
       "        0, 0, 0, 0, 0, 0, 0, 0, 0, 0, 0, 0, 0, 0, 0, 0, 0, 0, 0, 0, 0, 0,\n",
       "        0, 0, 0, 0, 0, 0, 0, 0, 0, 0, 0, 0, 0, 0, 0, 0, 0, 0, 0, 0, 0, 0,\n",
       "        0, 0, 0, 0, 0, 0, 0, 0, 0, 0, 0, 0],\n",
       "       [0, 0, 0, 0, 0, 0, 0, 0, 0, 0, 0, 0, 0, 0, 0, 0, 0, 0, 0, 0, 0, 0,\n",
       "        0, 0, 0, 0, 0, 0, 0, 0, 0, 0, 0, 0, 0, 0, 0, 0, 0, 0, 0, 0, 0, 0,\n",
       "        0, 0, 0, 0, 0, 0, 0, 0, 0, 0, 0, 0, 0, 0, 0, 0, 0, 0, 0, 0, 0, 0,\n",
       "        0, 0, 0, 0, 0, 0, 0, 0, 0, 0, 0, 0, 0, 0, 0, 0, 0, 0, 0, 0, 0, 0,\n",
       "        0, 0, 0, 0, 0, 0, 0, 0, 0, 0, 0, 0],\n",
       "       [0, 0, 0, 0, 0, 0, 0, 0, 0, 0, 0, 0, 0, 0, 0, 0, 0, 0, 0, 0, 0, 0,\n",
       "        0, 0, 0, 0, 0, 0, 0, 0, 0, 0, 0, 0, 0, 0, 0, 0, 0, 0, 0, 0, 0, 0,\n",
       "        0, 0, 0, 0, 0, 0, 0, 0, 0, 0, 0, 0, 0, 0, 0, 0, 0, 0, 0, 0, 0, 0,\n",
       "        0, 0, 0, 0, 0, 0, 0, 0, 0, 0, 0, 0, 0, 0, 0, 0, 0, 0, 0, 0, 0, 0,\n",
       "        0, 0, 0, 0, 0, 0, 0, 0, 0, 0, 0, 0],\n",
       "       [1, 0, 0, 0, 0, 0, 0, 0, 0, 0, 0, 0, 0, 0, 0, 0, 0, 0, 0, 0, 0, 0,\n",
       "        0, 0, 0, 0, 0, 0, 0, 0, 0, 0, 0, 0, 0, 0, 0, 1, 0, 0, 0, 0, 0, 0,\n",
       "        0, 0, 0, 0, 0, 0, 0, 0, 0, 0, 0, 0, 0, 0, 0, 0, 0, 0, 0, 0, 0, 0,\n",
       "        0, 0, 0, 0, 0, 0, 0, 0, 0, 0, 0, 0, 0, 0, 0, 0, 0, 0, 0, 0, 0, 0,\n",
       "        0, 0, 0, 0, 0, 0, 0, 0, 0, 0, 0, 0]])"
      ]
     },
     "execution_count": 35,
     "metadata": {},
     "output_type": "execute_result"
    }
   ],
   "source": [
    "X_counts[0:5, 0:100].toarray()"
   ]
  },
  {
   "cell_type": "markdown",
   "id": "4098b64a-9544-4e5d-a6e3-103f4a5123ef",
   "metadata": {},
   "source": [
    "# Exercise 10"
   ]
  },
  {
   "cell_type": "code",
   "execution_count": 62,
   "id": "1027fa63-2dd7-4f78-8673-ca6135c85ad5",
   "metadata": {},
   "outputs": [
    {
     "name": "stdout",
     "output_type": "stream",
     "text": [
      "Word: 00 | Count: 1 | Index: 0\n",
      "Word: 01 | Count: 1 | Index: 37\n"
     ]
    }
   ],
   "source": [
    "# Get the vocabulary\n",
    "feature_names = count_vect.get_feature_names_out()\n",
    "\n",
    "# Select document 5 (row index 4)\n",
    "doc5 = X_counts[4, 0:100]\n",
    "\n",
    "for idx, count in zip(doc5.indices, doc5.data):\n",
    "    print(\"Word:\", feature_names[idx], \"| Count:\", count, \"| Index:\", idx)"
   ]
  },
  {
   "cell_type": "code",
   "execution_count": 75,
   "id": "01d4f7ce-8649-4c08-9fd5-9c41cc858962",
   "metadata": {},
   "outputs": [
    {
     "data": {
      "text/plain": [
       "['term_00',\n",
       " 'term_000',\n",
       " 'term_0000',\n",
       " 'term_0000001200',\n",
       " 'term_000005102000',\n",
       " 'term_0001',\n",
       " 'term_000100255pixel',\n",
       " 'term_00014',\n",
       " 'term_000406',\n",
       " 'term_0007',\n",
       " 'term_000usd',\n",
       " 'term_0010',\n",
       " 'term_001004',\n",
       " 'term_0010580b',\n",
       " 'term_001125',\n",
       " 'term_001200201pixel',\n",
       " 'term_0014',\n",
       " 'term_001642',\n",
       " 'term_00196',\n",
       " 'term_002']"
      ]
     },
     "execution_count": 75,
     "metadata": {},
     "output_type": "execute_result"
    }
   ],
   "source": [
    "# first twenty features only\n",
    "plot_x = [\"term_\"+str(i) for i in count_vect.get_feature_names_out()[0:20]]\n",
    "\n",
    "# obtain document index\n",
    "plot_y = [\"doc_\"+ str(i) for i in list(X.index)[0:20]]\n",
    "\n",
    "plot_z = X_counts[0:20, 0:20].toarray() #X_counts[how many documents, how many terms]\n",
    "plot_x"
   ]
  },
  {
   "cell_type": "code",
   "execution_count": 69,
   "id": "175d8c55-4ed2-4b69-a08b-c3ee73e14d2a",
   "metadata": {},
   "outputs": [
    {
     "data": {
      "image/png": "[encoded data removed]",
      "text/plain": [
       "<Figure size 900x700 with 2 Axes>"
      ]
     },
     "metadata": {},
     "output_type": "display_data"
    }
   ],
   "source": [
    "import seaborn as sns\n",
    "\n",
    "df_todraw = pd.DataFrame(plot_z, columns = plot_x, index = plot_y)\n",
    "plt.subplots(figsize=(9, 7))\n",
    "ax = sns.heatmap(df_todraw,\n",
    "                 cmap=\"PuRd\",\n",
    "                 vmin=0, vmax=1, annot=True)"
   ]
  },
  {
   "cell_type": "markdown",
   "id": "8b2bc65f-01ed-4252-8a55-bdf35e1ec68f",
   "metadata": {},
   "source": [
    "# Exercise 11"
   ]
  },
  {
   "cell_type": "code",
   "execution_count": 93,
   "id": "f2769838-9ad8-409a-9879-7d33f9f26d69",
   "metadata": {},
   "outputs": [],
   "source": [
    "term_len = 100\n",
    "doc_len = 100\n",
    "\n",
    "# first twenty features only\n",
    "plot_x = [\"term_\"+str(i) for i in count_vect.get_feature_names_out()[0:term_len]]\n",
    "\n",
    "# obtain document index\n",
    "plot_y = [\"doc_\"+ str(i) for i in list(X.index)[0:doc_len]]\n",
    "\n",
    "plot_z = X_counts[0:doc_len, 0:term_len].toarray() #X_counts[how many documents, how many terms]"
   ]
  },
  {
   "cell_type": "code",
   "execution_count": 94,
   "id": "d052e8c1-8c89-4588-98a1-b244b069c5c4",
   "metadata": {},
   "outputs": [
    {
     "data": {
      "text/plain": [
       "<Axes: >"
      ]
     },
     "execution_count": 94,
     "metadata": {},
     "output_type": "execute_result"
    },
    {
     "data": {
      "image/png": "[encoded data removed]",
      "text/plain": [
       "<Figure size 1200x800 with 2 Axes>"
      ]
     },
     "metadata": {},
     "output_type": "display_data"
    }
   ],
   "source": [
    "import seaborn as sns\n",
    "\n",
    "df_todraw = pd.DataFrame(plot_z, columns = plot_x, index = plot_y)\n",
    "\"\"\"\n",
    "plt.subplots(figsize=(9, 7))\n",
    "ax = sns.heatmap(df_todraw, cmap=\"PuRd\", vmin=0, vmax=1, annot=True)\n",
    "\"\"\"\n",
    "plt.subplots(figsize=(12, 8))\n",
    "sns.heatmap(df_todraw, cmap=\"viridis\", cbar=True)"
   ]
  },
  {
   "cell_type": "code",
   "execution_count": null,
   "id": "7d64efcc-e94a-4bfd-9e76-b4e0546aa3ce",
   "metadata": {},
   "outputs": [],
   "source": []
  },
  {
   "cell_type": "code",
   "execution_count": null,
   "id": "49c54198-a144-4669-993d-bc1b98bc453d",
   "metadata": {},
   "outputs": [],
   "source": []
  }
 ],
 "metadata": {
  "kernelspec": {
   "display_name": "Python (dm2025lab)",
   "language": "python",
   "name": "dm2025lab"
  },
  "language_info": {
   "codemirror_mode": {
    "name": "ipython",
    "version": 3
   },
   "file_extension": ".py",
   "mimetype": "text/x-python",
   "name": "python",
   "nbconvert_exporter": "python",
   "pygments_lexer": "ipython3",
   "version": "3.11.0"
  }
 },
 "nbformat": 4,
 "nbformat_minor": 5
}
